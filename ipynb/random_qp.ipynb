{
 "cells": [
  {
   "cell_type": "markdown",
   "metadata": {},
   "source": [
    "# Random quadratic programming.\n",
    "\n",
    "Here, we are going to try to simulate the Macarthur Resource Consumer dynamics, specifically\n",
    "\n",
    "$$\n",
    "\\begin{align}\n",
    "\\frac{d \\lambda_i}{dt} &= \\lambda_i (\\sum_{\\alpha} c_{i,\\alpha} R_{\\alpha} - m_i) \\\\\n",
    "\\frac{d R_{\\alpha}}{dt} &= R_{\\alpha} (K_{\\alpha} - R_{\\alpha} - \\sum_j \\lambda_j c_{j, \\alpha} R_{\\alpha})\n",
    "\\end{align}\n",
    "$$\n",
    "\n",
    "There are 3 different parameters that we will want to simulation, namely $c$, $m$ and $K$\n",
    "\n",
    "We will also want to randomly generate the initial conditions of all of the species and resources.  \n",
    "The lognormal distribution will be our default generating distribution."
   ]
  },
  {
   "cell_type": "code",
   "execution_count": 1,
   "metadata": {},
   "outputs": [],
   "source": [
    "import numpy as np\n",
    "from cvxopt import matrix\n",
    "from cvxopt import solvers\n",
    "\n",
    "n_species = 10\n",
    "n_resources = 20\n",
    "\n",
    "c = np.random.lognormal(size=(n_species, n_resources))\n",
    "K = np.random.lognormal(size=(n_resources))\n",
    "m = np.random.lognormal(size=(n_species))\n",
    "N0 = np.random.lognormal(size=(n_species))\n",
    "R0 = np.random.lognormal(size=(n_resources))"
   ]
  },
  {
   "cell_type": "code",
   "execution_count": 2,
   "metadata": {},
   "outputs": [],
   "source": [
    "# Define QP parameters (directly)\n",
    "M = np.identity(n_resources)\n",
    "P = np.dot(M.T, M)\n",
    "q = -np.dot(K, M).reshape((n_resources,))\n",
    "G1= c\n",
    "h1= m\n",
    "\n",
    "G2 = -np.identity(n_resources)\n",
    "h2 = np.zeros(n_resources)\n",
    "G=np.concatenate((G1, G2), axis=0)\n",
    "h=np.concatenate((h1, h2), axis=None)"
   ]
  },
  {
   "cell_type": "code",
   "execution_count": 3,
   "metadata": {},
   "outputs": [],
   "source": [
    "P = matrix(P,tc=\"d\")\n",
    "q = matrix(q, tc=\"d\")\n",
    "G = matrix(G, tc=\"d\")\n",
    "h = matrix(h, tc=\"d\")\n",
    "\n",
    "solvers.options['show_progress'] = False\n",
    "solvers.options['abstol']=1e-8\n",
    "solvers.options['reltol']=1e-8\n",
    "solvers.options['feastol']=1e-8\n",
    "solvers.options['DSDP_Monitor'] = 1\n",
    "sol = solvers.qp(P,q,G,h)"
   ]
  },
  {
   "cell_type": "code",
   "execution_count": 4,
   "metadata": {},
   "outputs": [],
   "source": [
    "import matplotlib.pyplot as plt\n",
    "plt.plot(sorted(np.array(sol['x']).ravel())[::-1])\n",
    "plt.yscale('log')"
   ]
  },
  {
   "cell_type": "code",
   "execution_count": 5,
   "metadata": {},
   "outputs": [
    {
     "data": {
      "text/plain": [
       "{'x': <20x1 matrix, tc='d'>,\n",
       " 'y': <0x1 matrix, tc='d'>,\n",
       " 's': <30x1 matrix, tc='d'>,\n",
       " 'z': <30x1 matrix, tc='d'>,\n",
       " 'status': 'optimal',\n",
       " 'gap': 5.577389553453941e-10,\n",
       " 'relative gap': 2.456580927476236e-10,\n",
       " 'primal objective': -2.2703870615749926,\n",
       " 'dual objective': -2.270387062132731,\n",
       " 'primal infeasibility': 2.2104876794910166e-16,\n",
       " 'dual infeasibility': 4.606199279993975e-15,\n",
       " 'primal slack': 7.867901897443907e-13,\n",
       " 'dual slack': 3.8906447270946115e-12,\n",
       " 'iterations': 10}"
      ]
     },
     "execution_count": 5,
     "metadata": {},
     "output_type": "execute_result"
    }
   ],
   "source": [
    "sol"
   ]
  },
  {
   "cell_type": "code",
   "execution_count": 8,
   "metadata": {},
   "outputs": [],
   "source": [
    "num_samples = 100\n",
    "\n",
    "microbes = []\n",
    "resources = []\n",
    "\n",
    "for s in range(num_samples):\n",
    "    N0 = np.random.lognormal(size=(n_species))\n",
    "    R0 = np.random.lognormal(size=(n_resources))\n",
    "    c = np.random.lognormal(size=(n_species, n_resources))\n",
    "    K = np.random.lognormal(size=(n_resources))\n",
    "    m = np.random.lognormal(size=(n_species))\n",
    "    \n",
    "    # Define QP parameters (directly)\n",
    "    M = np.identity(n_resources)\n",
    "    P = np.dot(M.T, M)\n",
    "    q = -np.dot(K, M).reshape((n_resources,))\n",
    "    G1= c\n",
    "    h1= m\n",
    "\n",
    "    G2 = -np.identity(n_resources)\n",
    "    h2 = np.zeros(n_resources)\n",
    "    G=np.concatenate((G1, G2), axis=0)\n",
    "    h=np.concatenate((h1, h2), axis=None)   \n",
    "    \n",
    "    P = matrix(P,tc=\"d\")\n",
    "    q = matrix(q, tc=\"d\")\n",
    "    G = matrix(G, tc=\"d\")\n",
    "    h = matrix(h, tc=\"d\")    \n",
    "    sol = solvers.qp(P,q,G,h)\n",
    "    resources.append(np.ravel(sol['x']))\n",
    "    microbes.append(np.ravel(sol['z'])[:n_species])"
   ]
  },
  {
   "cell_type": "code",
   "execution_count": 11,
   "metadata": {},
   "outputs": [],
   "source": [
    "microbes = np.vstack(microbes)\n",
    "resources = np.vstack(resources)"
   ]
  },
  {
   "cell_type": "code",
   "execution_count": 14,
   "metadata": {},
   "outputs": [
    {
     "data": {
      "text/plain": [
       "<matplotlib.axes._subplots.AxesSubplot at 0x11994d780>"
      ]
     },
     "execution_count": 14,
     "metadata": {},
     "output_type": "execute_result"
    },
    {
     "data": {
      "image/png": "[encoded data removed]",
      "text/plain": [
       "<Figure size 432x288 with 2 Axes>"
      ]
     },
     "metadata": {
      "needs_background": "light"
     },
     "output_type": "display_data"
    }
   ],
   "source": [
    "import seaborn as sns\n",
    "sns.heatmap(microbes)"
   ]
  },
  {
   "cell_type": "code",
   "execution_count": null,
   "metadata": {},
   "outputs": [],
   "source": []
  }
 ],
 "metadata": {
  "kernelspec": {
   "display_name": "Python 3",
   "language": "python",
   "name": "python3"
  },
  "language_info": {
   "codemirror_mode": {
    "name": "ipython",
    "version": 3
   },
   "file_extension": ".py",
   "mimetype": "text/x-python",
   "name": "python",
   "nbconvert_exporter": "python",
   "pygments_lexer": "ipython3",
   "version": "3.7.3"
  }
 },
 "nbformat": 4,
 "nbformat_minor": 2
}
